{
 "cells": [
  {
   "cell_type": "code",
   "execution_count": 1,
   "id": "5b73a7a8",
   "metadata": {},
   "outputs": [],
   "source": [
    "import pandas as pd\n",
    "import numpy as np"
   ]
  },
  {
   "cell_type": "markdown",
   "id": "2141142f",
   "metadata": {},
   "source": [
    "## Задача 1. Море"
   ]
  },
  {
   "cell_type": "code",
   "execution_count": 59,
   "id": "9aa97550",
   "metadata": {},
   "outputs": [],
   "source": [
    "n = 4\n",
    "m = 6"
   ]
  },
  {
   "cell_type": "code",
   "execution_count": 60,
   "id": "08d430db",
   "metadata": {},
   "outputs": [
    {
     "data": {
      "text/html": [
       "<div>\n",
       "<style scoped>\n",
       "    .dataframe tbody tr th:only-of-type {\n",
       "        vertical-align: middle;\n",
       "    }\n",
       "\n",
       "    .dataframe tbody tr th {\n",
       "        vertical-align: top;\n",
       "    }\n",
       "\n",
       "    .dataframe thead th {\n",
       "        text-align: right;\n",
       "    }\n",
       "</style>\n",
       "<table border=\"1\" class=\"dataframe\">\n",
       "  <thead>\n",
       "    <tr style=\"text-align: right;\">\n",
       "      <th></th>\n",
       "      <th>0</th>\n",
       "      <th>1</th>\n",
       "      <th>2</th>\n",
       "      <th>3</th>\n",
       "      <th>4</th>\n",
       "      <th>5</th>\n",
       "    </tr>\n",
       "  </thead>\n",
       "  <tbody>\n",
       "    <tr>\n",
       "      <th>0</th>\n",
       "      <td>1</td>\n",
       "      <td>4</td>\n",
       "      <td>4</td>\n",
       "      <td>2</td>\n",
       "      <td>1</td>\n",
       "      <td>1</td>\n",
       "    </tr>\n",
       "    <tr>\n",
       "      <th>1</th>\n",
       "      <td>0</td>\n",
       "      <td>0</td>\n",
       "      <td>1</td>\n",
       "      <td>0</td>\n",
       "      <td>-1</td>\n",
       "      <td>-1</td>\n",
       "    </tr>\n",
       "    <tr>\n",
       "      <th>2</th>\n",
       "      <td>-2</td>\n",
       "      <td>-3</td>\n",
       "      <td>-1</td>\n",
       "      <td>-5</td>\n",
       "      <td>-6</td>\n",
       "      <td>-4</td>\n",
       "    </tr>\n",
       "    <tr>\n",
       "      <th>3</th>\n",
       "      <td>-1</td>\n",
       "      <td>-3</td>\n",
       "      <td>-3</td>\n",
       "      <td>-4</td>\n",
       "      <td>-4</td>\n",
       "      <td>-2</td>\n",
       "    </tr>\n",
       "  </tbody>\n",
       "</table>\n",
       "</div>"
      ],
      "text/plain": [
       "   0  1  2  3  4  5\n",
       "0  1  4  4  2  1  1\n",
       "1  0  0  1  0 -1 -1\n",
       "2 -2 -3 -1 -5 -6 -4\n",
       "3 -1 -3 -3 -4 -4 -2"
      ]
     },
     "execution_count": 60,
     "metadata": {},
     "output_type": "execute_result"
    }
   ],
   "source": [
    "data = [[1,  4,  4,  2,  1,  1], [0,  0,  1,  0, -1, -1], [-2, -3, -1, -5, -6, -4], [-1, -3, -3, -4, -4, -2]]\n",
    "df = pd.DataFrame(data)\n",
    "df"
   ]
  },
  {
   "cell_type": "code",
   "execution_count": 61,
   "id": "26bb7a6d",
   "metadata": {},
   "outputs": [
    {
     "data": {
      "text/plain": [
       "1"
      ]
     },
     "execution_count": 61,
     "metadata": {},
     "output_type": "execute_result"
    }
   ],
   "source": [
    "# общая площадь клеточек моря, в которых его глубина больше 5:\n",
    "\n",
    "df[df < -5].notna().sum().sum()"
   ]
  },
  {
   "cell_type": "code",
   "execution_count": 62,
   "id": "74b12a12",
   "metadata": {},
   "outputs": [
    {
     "data": {
      "text/plain": [
       "40.0"
      ]
     },
     "execution_count": 62,
     "metadata": {},
     "output_type": "execute_result"
    }
   ],
   "source": [
    "# общий объём всей воды на карте:\n",
    "\n",
    "pd.DataFrame.abs(df[df < 0]).sum().sum()"
   ]
  },
  {
   "cell_type": "code",
   "execution_count": 63,
   "id": "dc02ca14",
   "metadata": {},
   "outputs": [
    {
     "data": {
      "text/plain": [
       "4.0"
      ]
     },
     "execution_count": 63,
     "metadata": {},
     "output_type": "execute_result"
    }
   ],
   "source": [
    "# максимальная высота над уровнем моря, которая есть на этой карте:\n",
    "\n",
    "pd.DataFrame.max(df[df >= 0]).max()"
   ]
  },
  {
   "cell_type": "markdown",
   "id": "95b62c32",
   "metadata": {},
   "source": [
    "## Задача 3. gamestats"
   ]
  },
  {
   "cell_type": "code",
   "execution_count": 74,
   "id": "5165a690",
   "metadata": {
    "scrolled": true
   },
   "outputs": [],
   "source": [
    "df_games = pd.read_csv(r'D:\\program_doc\\6 sem\\games001.csv', sep=';')\n",
    "df_rates = pd.read_csv(r'D:\\program_doc\\6 sem\\rates001.csv', sep=';')"
   ]
  },
  {
   "cell_type": "code",
   "execution_count": 77,
   "id": "097a55e2",
   "metadata": {},
   "outputs": [],
   "source": [
    "g_marks = []\n",
    "for i in df_games['id']:\n",
    "    g_marks.append(df_rates[(df_rates['id'] == i)]['mark'].mean())"
   ]
  },
  {
   "cell_type": "code",
   "execution_count": 87,
   "id": "ed06b716",
   "metadata": {},
   "outputs": [
    {
     "name": "stdout",
     "output_type": "stream",
     "text": [
      "Star Traders 8.000\n",
      "Civilization V 8.333\n",
      "XCOM 2 8.867\n"
     ]
    }
   ],
   "source": [
    "data = {'id':df_games['id'], \n",
    "        'name':df_games['name'], \n",
    "        'mark':marks, \n",
    "        'company':df_games['company']}\n",
    "df_sort = pd.DataFrame(data).sort_values(by = 'mark')\n",
    "\n",
    "# теперь выведем 3 игры с самой высокой средней оценкой:\n",
    "for i in range (3):\n",
    "     print(df_sort.iloc[i][1], f'{df_sort.iloc[i][2]:.3f}')\n",
    "\n",
    "    "
   ]
  },
  {
   "cell_type": "code",
   "execution_count": 86,
   "id": "52a4c321",
   "metadata": {},
   "outputs": [
    {
     "name": "stdout",
     "output_type": "stream",
     "text": [
      "Firaxis 2\n"
     ]
    }
   ],
   "source": [
    "high_rate_df = df_sort[(df_sort['mark'] > 8)]\n",
    "\n",
    "# выведем студию-разработчика, у которой максимальное количество игр с рейтингом выше 8.0:\n",
    "print(high_rate_df['company'].value_counts().index[0], high_rate_df['company'].value_counts()[0])"
   ]
  },
  {
   "cell_type": "markdown",
   "id": "b17a1cb5",
   "metadata": {},
   "source": [
    "## Задача 2. neuronet"
   ]
  },
  {
   "cell_type": "code",
   "execution_count": 116,
   "id": "d6184a91",
   "metadata": {},
   "outputs": [
    {
     "data": {
      "text/html": [
       "<div>\n",
       "<style scoped>\n",
       "    .dataframe tbody tr th:only-of-type {\n",
       "        vertical-align: middle;\n",
       "    }\n",
       "\n",
       "    .dataframe tbody tr th {\n",
       "        vertical-align: top;\n",
       "    }\n",
       "\n",
       "    .dataframe thead th {\n",
       "        text-align: right;\n",
       "    }\n",
       "</style>\n",
       "<table border=\"1\" class=\"dataframe\">\n",
       "  <thead>\n",
       "    <tr style=\"text-align: right;\">\n",
       "      <th></th>\n",
       "      <th>0</th>\n",
       "      <th>1</th>\n",
       "      <th>2</th>\n",
       "    </tr>\n",
       "  </thead>\n",
       "  <tbody>\n",
       "    <tr>\n",
       "      <th>0</th>\n",
       "      <td>0.1</td>\n",
       "      <td>0.0</td>\n",
       "      <td>0.0</td>\n",
       "    </tr>\n",
       "    <tr>\n",
       "      <th>1</th>\n",
       "      <td>0.0</td>\n",
       "      <td>0.1</td>\n",
       "      <td>0.0</td>\n",
       "    </tr>\n",
       "    <tr>\n",
       "      <th>2</th>\n",
       "      <td>0.0</td>\n",
       "      <td>0.0</td>\n",
       "      <td>0.1</td>\n",
       "    </tr>\n",
       "  </tbody>\n",
       "</table>\n",
       "</div>"
      ],
      "text/plain": [
       "     0    1    2\n",
       "0  0.1  0.0  0.0\n",
       "1  0.0  0.1  0.0\n",
       "2  0.0  0.0  0.1"
      ]
     },
     "execution_count": 116,
     "metadata": {},
     "output_type": "execute_result"
    }
   ],
   "source": [
    "v = np.array([0.5, 0.1, 0.5]) # вектор признаков\n",
    "df_A = pd.read_csv(r'D:\\program_doc\\6 sem\\A.csv', header=None, sep=';')\n",
    "df_b = pd.read_csv(r'D:\\program_doc\\6 sem\\b.csv', header=None, sep=';') # вектор весов\n",
    "df_A"
   ]
  },
  {
   "cell_type": "code",
   "execution_count": 137,
   "id": "e4ed30ff",
   "metadata": {},
   "outputs": [],
   "source": [
    "A2 = df_A @ df_A"
   ]
  },
  {
   "cell_type": "code",
   "execution_count": 138,
   "id": "afc061e0",
   "metadata": {},
   "outputs": [],
   "source": [
    "res1 = v @ A2"
   ]
  },
  {
   "cell_type": "code",
   "execution_count": 139,
   "id": "cc564a1d",
   "metadata": {},
   "outputs": [],
   "source": [
    "v1 = res1.values.reshape(1,3)"
   ]
  },
  {
   "cell_type": "code",
   "execution_count": 140,
   "id": "748bb94d",
   "metadata": {},
   "outputs": [],
   "source": [
    "b = df_b.values.reshape((3,1))"
   ]
  },
  {
   "cell_type": "code",
   "execution_count": 141,
   "id": "4deb2bc5",
   "metadata": {},
   "outputs": [
    {
     "data": {
      "text/plain": [
       "array([[0.0275]])"
      ]
     },
     "execution_count": 141,
     "metadata": {},
     "output_type": "execute_result"
    }
   ],
   "source": [
    "v1 @ b"
   ]
  },
  {
   "cell_type": "code",
   "execution_count": null,
   "id": "4e475963",
   "metadata": {},
   "outputs": [],
   "source": []
  }
 ],
 "metadata": {
  "kernelspec": {
   "display_name": "Python 3 (ipykernel)",
   "language": "python",
   "name": "python3"
  },
  "language_info": {
   "codemirror_mode": {
    "name": "ipython",
    "version": 3
   },
   "file_extension": ".py",
   "mimetype": "text/x-python",
   "name": "python",
   "nbconvert_exporter": "python",
   "pygments_lexer": "ipython3",
   "version": "3.9.7"
  }
 },
 "nbformat": 4,
 "nbformat_minor": 5
}
